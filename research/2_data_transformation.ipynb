{
 "cells": [
  {
   "cell_type": "markdown",
   "id": "d7a88882",
   "metadata": {},
   "source": [
    "## Data Transformation"
   ]
  },
  {
   "cell_type": "code",
   "execution_count": 3,
   "id": "2cfe27d4",
   "metadata": {},
   "outputs": [
    {
     "data": {
      "text/plain": [
       "'d:\\\\MLOPs\\\\End to end NLP Project with HuggingFace and Transformers\\\\research'"
      ]
     },
     "execution_count": 3,
     "metadata": {},
     "output_type": "execute_result"
    }
   ],
   "source": [
    "import os\n",
    "%pwd"
   ]
  },
  {
   "cell_type": "code",
   "execution_count": 4,
   "id": "45aaa66f",
   "metadata": {},
   "outputs": [],
   "source": [
    "os.chdir(\"../\")"
   ]
  },
  {
   "cell_type": "code",
   "execution_count": 5,
   "id": "9d97bb62",
   "metadata": {},
   "outputs": [
    {
     "data": {
      "text/plain": [
       "'d:\\\\MLOPs\\\\End to end NLP Project with HuggingFace and Transformers'"
      ]
     },
     "execution_count": 5,
     "metadata": {},
     "output_type": "execute_result"
    }
   ],
   "source": [
    "%pwd"
   ]
  },
  {
   "cell_type": "code",
   "execution_count": 6,
   "id": "40c3a972",
   "metadata": {},
   "outputs": [],
   "source": [
    "from dataclasses import dataclass\n",
    "from pathlib import Path\n",
    "\n",
    "\n",
    "@dataclass\n",
    "class DataTransformationConfig:\n",
    "    root_dir: Path\n",
    "    data_path: Path\n",
    "    tokenizer_name: Path"
   ]
  },
  {
   "cell_type": "code",
   "execution_count": 7,
   "id": "065fb52d",
   "metadata": {},
   "outputs": [],
   "source": [
    "from src.textSummarizer.constants import *\n",
    "from src.textSummarizer.utils.common import read_yaml,create_directories"
   ]
  },
  {
   "cell_type": "code",
   "execution_count": 8,
   "id": "13ded5df",
   "metadata": {},
   "outputs": [],
   "source": [
    "class ConfigurationManager:\n",
    "    def __init__(self, config_path=CONFIG_FILE_PATH,\n",
    "                params_filepath=PARAMS_FILE_PATH):\n",
    "        self.config=read_yaml(config_path)\n",
    "        self.params=read_yaml(params_filepath)\n",
    "\n",
    "        create_directories([self.config.artifacts_root])\n",
    "\n",
    "    def get_data_transformation_config(self)->DataTransformationConfig:\n",
    "        config=self.config.data_transformation\n",
    "\n",
    "        create_directories([config.root_dir])\n",
    "\n",
    "        data_transformation_config=DataTransformationConfig(\n",
    "            root_dir=config.root_dir,\n",
    "            data_path=config.data_path,\n",
    "            tokenizer_name=config.tokenizer_name\n",
    "        )\n",
    "        return data_transformation_config"
   ]
  },
  {
   "cell_type": "code",
   "execution_count": 9,
   "id": "4a508605",
   "metadata": {},
   "outputs": [
    {
     "name": "stderr",
     "output_type": "stream",
     "text": [
      "c:\\Users\\Admin\\anaconda3\\envs\\ml_project\\lib\\site-packages\\tqdm\\auto.py:21: TqdmWarning: IProgress not found. Please update jupyter and ipywidgets. See https://ipywidgets.readthedocs.io/en/stable/user_install.html\n",
      "  from .autonotebook import tqdm as notebook_tqdm\n"
     ]
    }
   ],
   "source": [
    "import os\n",
    "from src.textSummarizer.logging import logger\n",
    "from transformers import AutoTokenizer\n",
    "from datasets import load_from_disk"
   ]
  },
  {
   "cell_type": "markdown",
   "id": "9d370e5a",
   "metadata": {},
   "source": [
    "## Data Transformation Componenet"
   ]
  },
  {
   "cell_type": "code",
   "execution_count": null,
   "id": "c65d99b2",
   "metadata": {},
   "outputs": [],
   "source": [
    "# class DataTransformation:\n",
    "#     def __init__(self, config):\n",
    "#         \"\"\"\n",
    "#         Args:\n",
    "#             config (DataTransformationConfig): Configuration object containing tokenizer info\n",
    "#         \"\"\"\n",
    "#         self.config = config\n",
    "#         self.tokenizer = AutoTokenizer.from_pretrained(config.tokenizer_name)\n",
    "        \n",
    "\n",
    "#     def convert_examples_to_features(self, example_batch):\n",
    "#         \"\"\"\n",
    "#         Convert a batch of examples (dialogue + summary) into tokenized input_ids, attention_mask, and labels.\n",
    "\n",
    "#         Args:\n",
    "#             example_batch (dict): Dictionary containing 'dialogue' and 'summary' lists\n",
    "\n",
    "#         Returns:\n",
    "#             dict: Dictionary with tokenized 'input_ids', 'attention_mask', and 'labels'\n",
    "#         \"\"\"\n",
    "#         # Tokenize input dialogue\n",
    "#         input_encodings = self.tokenizer(\n",
    "#             example_batch['dialogue'],\n",
    "#             max_length=self.config.max_input_length,\n",
    "#             padding='max_length',\n",
    "#             truncation=True\n",
    "#         )\n",
    "\n",
    "#         # Tokenize summary\n",
    "#         target_encodings = self.tokenizer(\n",
    "#             example_batch['summary'],\n",
    "#             max_length=self.config.max_target_length,\n",
    "#             padding='max_length',\n",
    "#             truncation=True\n",
    "#         )\n",
    "\n",
    "#         return {\n",
    "#             'input_ids': input_encodings['input_ids'],\n",
    "#             'attention_mask': input_encodings['attention_mask'],\n",
    "#             'labels': target_encodings['input_ids']\n",
    "#         }\n",
    "#     def convert(self):\n",
    "#         dataset_samsum=load_from_disk(self.config.data_path)\n",
    "#         dataset_samsum_pt=dataset_samsum.map(self.convert_examples_to_features,batched=True)\n",
    "#         dataset_samsum_pt.save_to_disk(os.path.join(self.config.root_dir,\"samsum_dataset\"))\n",
    "        \n"
   ]
  },
  {
   "cell_type": "code",
   "execution_count": 16,
   "id": "3a97b540",
   "metadata": {},
   "outputs": [
    {
     "name": "stderr",
     "output_type": "stream",
     "text": [
      "Map: 100%|██████████| 14732/14732 [00:21<00:00, 689.86 examples/s]\n",
      "Map: 100%|██████████| 819/819 [00:01<00:00, 646.54 examples/s]\n",
      "Map: 100%|██████████| 818/818 [00:01<00:00, 512.82 examples/s]\n",
      "Saving the dataset (1/1 shards): 100%|██████████| 14732/14732 [00:00<00:00, 24455.32 examples/s]\n",
      "Saving the dataset (1/1 shards): 100%|██████████| 819/819 [00:00<00:00, 14469.70 examples/s]\n",
      "Saving the dataset (1/1 shards): 100%|██████████| 818/818 [00:00<00:00, 12877.02 examples/s]\n"
     ]
    },
    {
     "name": "stdout",
     "output_type": "stream",
     "text": [
      "Tokenized dataset saved at artifacts/data_transformation\\samsum_dataset\n"
     ]
    }
   ],
   "source": [
    "import os\n",
    "from datasets import load_dataset, load_from_disk\n",
    "from transformers import AutoTokenizer\n",
    "\n",
    "# ------------------------------\n",
    "# Configuration class\n",
    "# ------------------------------\n",
    "class DataTransformationConfig:\n",
    "    def __init__(self):\n",
    "        # Tokenizer and dataset paths\n",
    "        self.tokenizer_name = \"google/pegasus-cnn_dailymail\"\n",
    "        self.data_path = \"artifacts/data_ingestion/samsum_dataset\"\n",
    "        self.root_dir = \"artifacts/data_transformation\"\n",
    "\n",
    "        # Tokenization settings\n",
    "        self.max_input_length = 512     # maximum length for dialogues\n",
    "        self.max_target_length = 128    # maximum length for summaries\n",
    "\n",
    "# ------------------------------\n",
    "# Data Transformation class\n",
    "# ------------------------------\n",
    "class DataTransformation:\n",
    "    def __init__(self, config):\n",
    "        \"\"\"\n",
    "        Args:\n",
    "            config (DataTransformationConfig): Configuration object containing tokenizer info\n",
    "        \"\"\"\n",
    "        self.config = config\n",
    "        self.tokenizer = AutoTokenizer.from_pretrained(config.tokenizer_name)\n",
    "\n",
    "    def convert_examples_to_features(self, example_batch):\n",
    "        \"\"\"\n",
    "        Convert a batch of examples (dialogue + summary) into tokenized input_ids, attention_mask, and labels.\n",
    "\n",
    "        Args:\n",
    "            example_batch (dict): Dictionary containing 'dialogue' and 'summary' lists\n",
    "\n",
    "        Returns:\n",
    "            dict: Dictionary with tokenized 'input_ids', 'attention_mask', and 'labels'\n",
    "        \"\"\"\n",
    "        # Tokenize input dialogue\n",
    "        input_encodings = self.tokenizer(\n",
    "            example_batch['dialogue'],\n",
    "            max_length=self.config.max_input_length,\n",
    "            padding='max_length',\n",
    "            truncation=True\n",
    "        )\n",
    "\n",
    "        # Tokenize summary\n",
    "        target_encodings = self.tokenizer(\n",
    "            example_batch['summary'],\n",
    "            max_length=self.config.max_target_length,\n",
    "            padding='max_length',\n",
    "            truncation=True\n",
    "        )\n",
    "\n",
    "        return {\n",
    "            'input_ids': input_encodings['input_ids'],\n",
    "            'attention_mask': input_encodings['attention_mask'],\n",
    "            'labels': target_encodings['input_ids']\n",
    "        }\n",
    "\n",
    "    def convert(self):\n",
    "        # If dataset directory does not exist, download SAMSum\n",
    "        if not os.path.exists(self.config.data_path):\n",
    "            print(f\"Dataset not found at {self.config.data_path}. Downloading SAMSum dataset...\")\n",
    "            dataset_samsum = load_dataset(\"samsum\")\n",
    "            os.makedirs(self.config.data_path, exist_ok=True)\n",
    "            dataset_samsum.save_to_disk(self.config.data_path)\n",
    "            print(\"Dataset downloaded and saved locally.\")\n",
    "\n",
    "        # Load dataset from disk\n",
    "        dataset_samsum = load_from_disk(self.config.data_path)\n",
    "\n",
    "        # Convert examples to tokenized features\n",
    "        dataset_samsum_pt = dataset_samsum.map(self.convert_examples_to_features, batched=True)\n",
    "\n",
    "        # Save processed dataset\n",
    "        save_path = os.path.join(self.config.root_dir, \"samsum_dataset\")\n",
    "        os.makedirs(self.config.root_dir, exist_ok=True)\n",
    "        dataset_samsum_pt.save_to_disk(save_path)\n",
    "        print(f\"Tokenized dataset saved at {save_path}\")\n",
    "\n",
    "\n",
    "# ------------------------------\n",
    "# Usage\n",
    "# ------------------------------\n",
    "if __name__ == \"__main__\":\n",
    "    config = DataTransformationConfig()\n",
    "    data_transformer = DataTransformation(config=config)\n",
    "    data_transformer.convert()\n"
   ]
  },
  {
   "cell_type": "code",
   "execution_count": null,
   "id": "eb72ad5c",
   "metadata": {},
   "outputs": [],
   "source": []
  }
 ],
 "metadata": {
  "kernelspec": {
   "display_name": "ml_project",
   "language": "python",
   "name": "python3"
  },
  "language_info": {
   "codemirror_mode": {
    "name": "ipython",
    "version": 3
   },
   "file_extension": ".py",
   "mimetype": "text/x-python",
   "name": "python",
   "nbconvert_exporter": "python",
   "pygments_lexer": "ipython3",
   "version": "3.10.18"
  }
 },
 "nbformat": 4,
 "nbformat_minor": 5
}
