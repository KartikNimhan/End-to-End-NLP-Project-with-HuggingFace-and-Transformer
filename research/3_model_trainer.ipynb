{
 "cells": [
  {
   "cell_type": "code",
   "execution_count": 1,
   "id": "81158ba7",
   "metadata": {},
   "outputs": [
    {
     "data": {
      "text/plain": [
       "'d:\\\\MLOPs\\\\End to end NLP Project with HuggingFace and Transformers\\\\research'"
      ]
     },
     "execution_count": 1,
     "metadata": {},
     "output_type": "execute_result"
    }
   ],
   "source": [
    "import os\n",
    "%pwd"
   ]
  },
  {
   "cell_type": "code",
   "execution_count": 2,
   "id": "cb6ba9ac",
   "metadata": {},
   "outputs": [],
   "source": [
    "os.chdir(\"../\")"
   ]
  },
  {
   "cell_type": "code",
   "execution_count": 3,
   "id": "2bdeec30",
   "metadata": {},
   "outputs": [
    {
     "data": {
      "text/plain": [
       "'d:\\\\MLOPs\\\\End to end NLP Project with HuggingFace and Transformers'"
      ]
     },
     "execution_count": 3,
     "metadata": {},
     "output_type": "execute_result"
    }
   ],
   "source": [
    "%pwd"
   ]
  },
  {
   "cell_type": "code",
   "execution_count": 4,
   "id": "feaa8705",
   "metadata": {},
   "outputs": [],
   "source": [
    "from dataclasses import dataclass\n",
    "from pathlib import Path\n",
    "\n",
    "\n",
    "# @dataclass\n",
    "# class ModelTrainerConfig:\n",
    "#     root_dir: Path\n",
    "#     data_path: Path\n",
    "#     model_ckpt: Path\n",
    "#     num_train_epoches: int\n",
    "#     warmup_steps: int\n",
    "#     per_device_train_batch_size: int\n",
    "#     weight_decay: float\n",
    "#     logging_steps: int\n",
    "#     evaluation_strategy: str \n",
    "#     eval_steps: int\n",
    "#     save_steps: float\n",
    "#     gradient_accumulation_steps: int\n",
    "\n",
    "class ModelTrainerConfig:\n",
    "    root_dir: Path\n",
    "    data_path: Path\n",
    "    model_ckpt: str\n",
    "    num_train_epochs: int\n",
    "    warmup_steps: int\n",
    "    per_device_train_batch_size: int\n",
    "    weight_decay: float\n",
    "    logging_steps: int\n",
    "    evaluation_strategy: str \n",
    "    eval_steps: int\n",
    "    save_steps: float\n",
    "    gradient_accumulation_steps: int\n"
   ]
  },
  {
   "cell_type": "code",
   "execution_count": 5,
   "id": "c28ac02e",
   "metadata": {},
   "outputs": [],
   "source": [
    "from src.textSummarizer.constants import *\n",
    "from src.textSummarizer.utils.common import read_yaml, create_directories"
   ]
  },
  {
   "cell_type": "code",
   "execution_count": 6,
   "id": "c72e765b",
   "metadata": {},
   "outputs": [],
   "source": [
    "class ConfigurationManager:\n",
    "    def __init__(\n",
    "        self,\n",
    "        config_filepath=CONFIG_FILE_PATH,\n",
    "        params_filepath=PARAMS_FILE_PATH\n",
    "    ):\n",
    "        self.config = read_yaml(config_filepath)\n",
    "        self.params = read_yaml(params_filepath)\n",
    "\n",
    "        create_directories([self.config.artifacts_root])\n",
    "\n",
    "    def get_model_trainer_config(self) -> ModelTrainerConfig:\n",
    "        config = self.config.model_trainer\n",
    "        params = self.params.TrainingArguments\n",
    "\n",
    "        create_directories([config.root_dir])\n",
    "\n",
    "        model_trainer_config = ModelTrainerConfig(\n",
    "            root_dir=config.root_dir,\n",
    "            data_path=config.data_path,\n",
    "            model_ckpt=config.model_ckpt,\n",
    "            num_train_epochs=params.num_train_epochs,\n",
    "            warmup_steps=params.warmup_steps,\n",
    "            per_device_train_batch_size=params.per_device_train_batch_size,\n",
    "            weight_decay=params.weight_decay,\n",
    "            logging_steps=params.logging_steps,\n",
    "            evaluation_strategy=params.evaluation_strategy,\n",
    "            eval_steps=params.eval_steps,  # ✅ FIXED\n",
    "            save_steps=params.save_steps,\n",
    "            gradient_accumulation_steps=params.gradient_accumulation_steps\n",
    "        )\n",
    "\n",
    "        return model_trainer_config\n"
   ]
  },
  {
   "cell_type": "code",
   "execution_count": 7,
   "id": "bb471e8b",
   "metadata": {},
   "outputs": [
    {
     "name": "stderr",
     "output_type": "stream",
     "text": [
      "c:\\Users\\Admin\\anaconda3\\envs\\ml_project\\lib\\site-packages\\tqdm\\auto.py:21: TqdmWarning: IProgress not found. Please update jupyter and ipywidgets. See https://ipywidgets.readthedocs.io/en/stable/user_install.html\n",
      "  from .autonotebook import tqdm as notebook_tqdm\n"
     ]
    }
   ],
   "source": [
    "from transformers import AutoModelForSeq2SeqLM, AutoTokenizer\n",
    "from transformers import TrainingArguments, Trainer\n",
    "from transformers import DataCollatorForSeq2Seq\n",
    "import torch\n",
    "from datasets import load_from_disk"
   ]
  },
  {
   "cell_type": "code",
   "execution_count": 8,
   "id": "161ee54f",
   "metadata": {},
   "outputs": [],
   "source": [
    "# import os\n",
    "# import torch\n",
    "# from transformers import AutoTokenizer, AutoModelForSeq2SeqLM, DataCollatorForSeq2Seq, Trainer, TrainingArguments\n",
    "# from datasets import load_from_disk\n",
    "# from transformers import TrainingArguments, Trainer\n",
    "\n",
    "\n",
    "# class ModelTrainer:\n",
    "#     def __init__(self, config: \"ModelTrainerConfig\"):\n",
    "#         self.config = config\n",
    "\n",
    "#     def train(self):\n",
    "#         device = \"cuda\" if torch.cuda.is_available() else \"cpu\"\n",
    "\n",
    "#         # Load tokenizer and model\n",
    "#         tokenizer = AutoTokenizer.from_pretrained(self.config.model_ckpt)\n",
    "#         model_pegasus = AutoModelForSeq2SeqLM.from_pretrained(self.config.model_ckpt).to(device)\n",
    "\n",
    "#         # Data collator\n",
    "#         seq2seq_data_collator = DataCollatorForSeq2Seq(tokenizer, model=model_pegasus)\n",
    "\n",
    "#         # Load dataset\n",
    "#         # dataset_samsum_pt = load_from_disk(self.config.data_path)\n",
    "#         from pathlib import Path\n",
    "\n",
    "#         dataset_path = Path(self.config.data_path)\n",
    "#         print(\"Trying to load dataset from:\", dataset_path.resolve())\n",
    "#         print(\"Exists?\", dataset_path.exists())\n",
    "#         print(\"Contents:\", list(dataset_path.glob(\"*\")))\n",
    "\n",
    "#         dataset_samsum_pt = load_from_disk(dataset_path)\n",
    "\n",
    "\n",
    "#         # Training arguments\n",
    "#         trainer_args = TrainingArguments(\n",
    "#             output_dir=self.config.root_dir,\n",
    "#             num_train_epochs=1,\n",
    "#             warmup_steps=500,\n",
    "#             per_device_train_batch_size=1,\n",
    "#             per_device_eval_batch_size=1,\n",
    "#             weight_decay=0.01,\n",
    "#             logging_steps=10,\n",
    "#             eval_strategy=\"steps\",\n",
    "#             eval_steps=500,\n",
    "#             save_steps=1e6,\n",
    "#             gradient_accumulation_steps=16\n",
    "#         )\n",
    "\n",
    "#         # Trainer\n",
    "#         trainer = Trainer(\n",
    "#             model=model_pegasus, \n",
    "#             args=trainer_args,\n",
    "#             tokenizer=tokenizer, \n",
    "#             data_collator=seq2seq_data_collator,\n",
    "#             train_dataset=dataset_samsum_pt[\"test\"],\n",
    "#             eval_dataset=dataset_samsum_pt[\"validation\"]\n",
    "#         )\n",
    "\n",
    "#         # Train\n",
    "#         trainer.train()\n",
    "\n",
    "#         # Save model and tokenizer\n",
    "#         model_pegasus.save_pretrained(os.path.join(self.config.root_dir, \"pegasus-samsum-model\"))\n",
    "#         tokenizer.save_pretrained(os.path.join(self.config.root_dir, \"tokenizer\"))\n"
   ]
  },
  {
   "cell_type": "code",
   "execution_count": 9,
   "id": "c986d060",
   "metadata": {},
   "outputs": [],
   "source": [
    "import os\n",
    "import torch\n",
    "from pathlib import Path\n",
    "from transformers import (\n",
    "    AutoTokenizer,\n",
    "    AutoModelForSeq2SeqLM,\n",
    "    DataCollatorForSeq2Seq,\n",
    "    Trainer,\n",
    "    TrainingArguments\n",
    ")\n",
    "from datasets import load_from_disk\n",
    "\n",
    "\n",
    "class ModelTrainer:\n",
    "    def __init__(self, config: \"ModelTrainerConfig\"):\n",
    "        self.config = config\n",
    "\n",
    "    def train(self):\n",
    "        device = \"cuda\" if torch.cuda.is_available() else \"cpu\"\n",
    "        print(f\"🔧 Using device: {device}\")\n",
    "\n",
    "        # ✅ Resolve dataset path to absolute path\n",
    "        dataset_path = Path(self.config.data_path).resolve()\n",
    "        print(f\"📂 Trying to load dataset from: {dataset_path}\")\n",
    "        if not dataset_path.exists():\n",
    "            raise FileNotFoundError(f\"❌ Dataset folder not found at: {dataset_path}\")\n",
    "\n",
    "        # Print contents to debug\n",
    "        print(f\"📑 Found files: {list(dataset_path.glob('*'))}\")\n",
    "\n",
    "        # ✅ Load dataset from disk\n",
    "        dataset_samsum_pt = load_from_disk(dataset_path)\n",
    "\n",
    "        # ✅ Load tokenizer and model\n",
    "        tokenizer = AutoTokenizer.from_pretrained(self.config.model_ckpt)\n",
    "        model_pegasus = AutoModelForSeq2SeqLM.from_pretrained(self.config.model_ckpt).to(device)\n",
    "\n",
    "        # ✅ Data collator for padding batches\n",
    "        seq2seq_data_collator = DataCollatorForSeq2Seq(tokenizer, model=model_pegasus)\n",
    "\n",
    "        # ✅ Training arguments (fixed evaluation_strategy)\n",
    "        trainer_args = TrainingArguments(\n",
    "            output_dir=str(Path(self.config.root_dir).resolve()),\n",
    "            num_train_epochs=1,\n",
    "            warmup_steps=500,\n",
    "            per_device_train_batch_size=1,\n",
    "            per_device_eval_batch_size=1,\n",
    "            weight_decay=0.01,\n",
    "            logging_strategy=\"steps\",\n",
    "            logging_steps=10,\n",
    "            eval_strategy=\"steps\",  # ✅ correct argument name\n",
    "            eval_steps=500,\n",
    "            save_strategy=\"no\",  # ✅ disables frequent checkpoints (can adjust)\n",
    "            gradient_accumulation_steps=16,\n",
    "            report_to=\"none\"  # ✅ disables WandB/Comet logging unless you need it\n",
    "        )\n",
    "\n",
    "        # ✅ Trainer setup\n",
    "        trainer = Trainer(\n",
    "            model=model_pegasus,\n",
    "            args=trainer_args,\n",
    "            tokenizer=tokenizer,\n",
    "            data_collator=seq2seq_data_collator,\n",
    "            train_dataset=dataset_samsum_pt[\"train\"],  # ✅ use train split\n",
    "            eval_dataset=dataset_samsum_pt[\"validation\"]\n",
    "        )\n",
    "\n",
    "        print(\"🚀 Starting training...\")\n",
    "        trainer.train()\n",
    "\n",
    "        # ✅ Save trained model and tokenizer\n",
    "        save_model_path = Path(self.config.root_dir) / \"pegasus-samsum-model\"\n",
    "        save_tokenizer_path = Path(self.config.root_dir) / \"tokenizer\"\n",
    "\n",
    "        model_pegasus.save_pretrained(save_model_path)\n",
    "        tokenizer.save_pretrained(save_tokenizer_path)\n",
    "\n",
    "        print(f\"✅ Model saved at: {save_model_path}\")\n",
    "        print(f\"✅ Tokenizer saved at: {save_tokenizer_path}\")\n"
   ]
  },
  {
   "cell_type": "code",
   "execution_count": 10,
   "id": "63485edb",
   "metadata": {},
   "outputs": [
    {
     "name": "stdout",
     "output_type": "stream",
     "text": [
      "[2025-09-19 16:07:13,557:INFO:common:yaml file: D:\\MLOPs\\End to end NLP Project with HuggingFace and Transformers\\config\\config.yaml loaded successfully]\n",
      "[2025-09-19 16:07:13,580:INFO:common:yaml file: D:\\MLOPs\\End to end NLP Project with HuggingFace and Transformers\\params.yaml loaded successfully]\n",
      "[2025-09-19 16:07:13,590:INFO:common:created directory at: artifacts]\n"
     ]
    }
   ],
   "source": [
    "from pathlib import Path\n",
    "from src.textSummarizer.config.configuration import ConfigurationManager\n",
    "\n",
    "config_path = Path(r\"D:\\MLOPs\\End to end NLP Project with HuggingFace and Transformers\\config\\config.yaml\")\n",
    "params_path = Path(r\"D:\\MLOPs\\End to end NLP Project with HuggingFace and Transformers\\params.yaml\")\n",
    "\n",
    "config_manager = ConfigurationManager(config_path=config_path, params_filepath=params_path)\n"
   ]
  },
  {
   "cell_type": "code",
   "execution_count": 11,
   "id": "63c2f712",
   "metadata": {},
   "outputs": [],
   "source": [
    "import importlib\n",
    "import src.textSummarizer.config.configuration as cfg\n",
    "importlib.reload(cfg)\n",
    "ConfigurationManager = cfg.ConfigurationManager\n"
   ]
  },
  {
   "cell_type": "code",
   "execution_count": null,
   "id": "fcf30676",
   "metadata": {},
   "outputs": [
    {
     "name": "stdout",
     "output_type": "stream",
     "text": [
      "[2025-09-19 16:07:13,683:INFO:common:yaml file: D:\\MLOPs\\End to end NLP Project with HuggingFace and Transformers\\config\\config.yaml loaded successfully]\n",
      "[2025-09-19 16:07:13,700:INFO:common:yaml file: D:\\MLOPs\\End to end NLP Project with HuggingFace and Transformers\\params.yaml loaded successfully]\n",
      "[2025-09-19 16:07:13,705:INFO:common:created directory at: artifacts]\n",
      "[2025-09-19 16:07:13,710:INFO:common:created directory at: artifacts\\model_trainer]\n",
      "🔧 Using device: cpu\n",
      "📂 Trying to load dataset from: D:\\MLOPs\\End to end NLP Project with HuggingFace and Transformers\\artifacts\\data_transformation\\samsum_dataset\n",
      "📑 Found files: [WindowsPath('D:/MLOPs/End to end NLP Project with HuggingFace and Transformers/artifacts/data_transformation/samsum_dataset/dataset_dict.json'), WindowsPath('D:/MLOPs/End to end NLP Project with HuggingFace and Transformers/artifacts/data_transformation/samsum_dataset/test'), WindowsPath('D:/MLOPs/End to end NLP Project with HuggingFace and Transformers/artifacts/data_transformation/samsum_dataset/train'), WindowsPath('D:/MLOPs/End to end NLP Project with HuggingFace and Transformers/artifacts/data_transformation/samsum_dataset/validation')]\n"
     ]
    },
    {
     "name": "stderr",
     "output_type": "stream",
     "text": [
      "Some weights of PegasusForConditionalGeneration were not initialized from the model checkpoint at google/pegasus-cnn_dailymail and are newly initialized: ['model.decoder.embed_positions.weight', 'model.encoder.embed_positions.weight']\n",
      "You should probably TRAIN this model on a down-stream task to be able to use it for predictions and inference.\n",
      "C:\\Users\\Admin\\AppData\\Local\\Temp\\ipykernel_10056\\6004864.py:59: FutureWarning: `tokenizer` is deprecated and will be removed in version 5.0.0 for `Trainer.__init__`. Use `processing_class` instead.\n",
      "  trainer = Trainer(\n",
      "The tokenizer has new PAD/BOS/EOS tokens that differ from the model config and generation config. The model config and generation config were aligned accordingly, being updated with the tokenizer's values. Updated tokens: {'bos_token_id': None}.\n"
     ]
    },
    {
     "name": "stdout",
     "output_type": "stream",
     "text": [
      "🚀 Starting training...\n"
     ]
    },
    {
     "name": "stderr",
     "output_type": "stream",
     "text": [
      "c:\\Users\\Admin\\anaconda3\\envs\\ml_project\\lib\\site-packages\\torch\\utils\\data\\dataloader.py:666: UserWarning: 'pin_memory' argument is set as true but no accelerator is found, then device pinned memory won't be used.\n",
      "  warnings.warn(warn_msg)\n"
     ]
    }
   ],
   "source": [
    "config=ConfigurationManager()\n",
    "model_trainer_config=config.get_model_trainer_config()\n",
    "model_trainer_config=ModelTrainer(config=model_trainer_config)\n",
    "model_trainer_config.train()"
   ]
  },
  {
   "cell_type": "code",
   "execution_count": null,
   "id": "d57c6d7b",
   "metadata": {},
   "outputs": [
    {
     "name": "stdout",
     "output_type": "stream",
     "text": [
      "transformers.training_args\n",
      "('self', 'output_dir', 'overwrite_output_dir', 'do_train', 'do_eval', 'do_predict', 'eval_strategy', 'prediction_loss_only', 'per_device_train_batch_size', 'per_device_eval_batch_size', 'per_gpu_train_batch_size', 'per_gpu_eval_batch_size', 'gradient_accumulation_steps', 'eval_accumulation_steps', 'eval_delay', 'torch_empty_cache_steps', 'learning_rate', 'weight_decay', 'adam_beta1', 'adam_beta2', 'adam_epsilon', 'max_grad_norm', 'num_train_epochs', 'max_steps', 'lr_scheduler_type', 'lr_scheduler_kwargs', 'warmup_ratio', 'warmup_steps', 'log_level', 'log_level_replica', 'log_on_each_node', 'logging_dir', 'logging_strategy', 'logging_first_step', 'logging_steps', 'logging_nan_inf_filter', 'save_strategy', 'save_steps', 'save_total_limit', 'save_safetensors', 'save_on_each_node', 'save_only_model', 'restore_callback_states_from_checkpoint', 'no_cuda', 'use_cpu', 'use_mps_device', 'seed', 'data_seed', 'jit_mode_eval', 'use_ipex', 'bf16', 'fp16', 'fp16_opt_level', 'half_precision_backend', 'bf16_full_eval', 'fp16_full_eval', 'tf32', 'local_rank', 'ddp_backend', 'tpu_num_cores', 'tpu_metrics_debug', 'debug', 'dataloader_drop_last', 'eval_steps', 'dataloader_num_workers', 'dataloader_prefetch_factor', 'past_index', 'run_name', 'disable_tqdm', 'remove_unused_columns', 'label_names', 'load_best_model_at_end', 'metric_for_best_model', 'greater_is_better', 'ignore_data_skip', 'fsdp', 'fsdp_min_num_params', 'fsdp_config', 'fsdp_transformer_layer_cls_to_wrap', 'accelerator_config', 'parallelism_config', 'deepspeed', 'label_smoothing_factor', 'optim', 'optim_args', 'adafactor', 'group_by_length', 'length_column_name', 'report_to', 'ddp_find_unused_parameters', 'ddp_bucket_cap_mb', 'ddp_broadcast_buffers', 'dataloader_pin_memory', 'dataloader_persistent_workers', 'skip_memory_metrics', 'use_legacy_prediction_loop', 'push_to_hub', 'resume_from_checkpoint', 'hub_model_id', 'hub_strategy', 'hub_token', 'hub_private_repo', 'hub_always_push', 'hub_revision', 'gradient_checkpointing', 'gradient_checkpointing_kwargs', 'include_inputs_for_metrics', 'include_for_metrics', 'eval_do_concat_batches', 'fp16_backend', 'push_to_hub_model_id', 'push_to_hub_organization', 'push_to_hub_token', 'mp_parameters', 'auto_find_batch_size', 'full_determinism', 'torchdynamo', 'ray_scope', 'ddp_timeout', 'torch_compile', 'torch_compile_backend', 'torch_compile_mode', 'include_tokens_per_second', 'include_num_input_tokens_seen', 'neftune_noise_alpha', 'optim_target_modules', 'batch_eval_metrics', 'eval_on_start', 'use_liger_kernel', 'liger_kernel_config', 'eval_use_gather_object', 'average_tokens_across_devices')\n"
     ]
    }
   ],
   "source": [
    "from transformers import TrainingArguments\n",
    "print(TrainingArguments.__module__)\n",
    "print(TrainingArguments.__init__.__code__.co_varnames)\n"
   ]
  },
  {
   "cell_type": "code",
   "execution_count": null,
   "id": "65e16efc",
   "metadata": {},
   "outputs": [],
   "source": []
  },
  {
   "cell_type": "code",
   "execution_count": null,
   "id": "3c21dfb7",
   "metadata": {},
   "outputs": [],
   "source": []
  },
  {
   "cell_type": "code",
   "execution_count": null,
   "id": "eadbb167",
   "metadata": {},
   "outputs": [],
   "source": []
  }
 ],
 "metadata": {
  "kernelspec": {
   "display_name": "ml_project",
   "language": "python",
   "name": "python3"
  },
  "language_info": {
   "codemirror_mode": {
    "name": "ipython",
    "version": 3
   },
   "file_extension": ".py",
   "mimetype": "text/x-python",
   "name": "python",
   "nbconvert_exporter": "python",
   "pygments_lexer": "ipython3",
   "version": "3.10.18"
  }
 },
 "nbformat": 4,
 "nbformat_minor": 5
}
